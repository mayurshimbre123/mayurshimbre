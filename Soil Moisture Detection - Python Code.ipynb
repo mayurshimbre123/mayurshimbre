{
 "cells": [
  {
   "cell_type": "code",
   "execution_count": 1,
   "id": "72016f6e",
   "metadata": {
    "id": "72016f6e"
   },
   "outputs": [],
   "source": [
    "import numpy as np\n",
    "import pandas as pd\n",
    "import matplotlib.pyplot as plt\n",
    "import seaborn as sns"
   ]
  },
  {
   "cell_type": "code",
   "execution_count": 3,
   "id": "34d5408c",
   "metadata": {
    "colab": {
     "base_uri": "https://localhost:8080/",
     "height": 423
    },
    "id": "34d5408c",
    "outputId": "355351e0-1005-4925-938c-85a0b242d825"
   },
   "outputs": [
    {
     "data": {
      "text/html": [
       "<div>\n",
       "<style scoped>\n",
       "    .dataframe tbody tr th:only-of-type {\n",
       "        vertical-align: middle;\n",
       "    }\n",
       "\n",
       "    .dataframe tbody tr th {\n",
       "        vertical-align: top;\n",
       "    }\n",
       "\n",
       "    .dataframe thead th {\n",
       "        text-align: right;\n",
       "    }\n",
       "</style>\n",
       "<table border=\"1\" class=\"dataframe\">\n",
       "  <thead>\n",
       "    <tr style=\"text-align: right;\">\n",
       "      <th></th>\n",
       "      <th>VV</th>\n",
       "      <th>VH</th>\n",
       "      <th>smap_am</th>\n",
       "      <th>soil_moisture</th>\n",
       "    </tr>\n",
       "  </thead>\n",
       "  <tbody>\n",
       "    <tr>\n",
       "      <th>0</th>\n",
       "      <td>-9.058618</td>\n",
       "      <td>-15.982408</td>\n",
       "      <td>0.284554</td>\n",
       "      <td>0.301</td>\n",
       "    </tr>\n",
       "    <tr>\n",
       "      <th>1</th>\n",
       "      <td>-9.511266</td>\n",
       "      <td>-18.085192</td>\n",
       "      <td>0.218601</td>\n",
       "      <td>0.172</td>\n",
       "    </tr>\n",
       "    <tr>\n",
       "      <th>2</th>\n",
       "      <td>-10.926619</td>\n",
       "      <td>-19.470199</td>\n",
       "      <td>0.286454</td>\n",
       "      <td>0.485</td>\n",
       "    </tr>\n",
       "    <tr>\n",
       "      <th>3</th>\n",
       "      <td>-8.650778</td>\n",
       "      <td>-14.840568</td>\n",
       "      <td>0.407210</td>\n",
       "      <td>0.143</td>\n",
       "    </tr>\n",
       "    <tr>\n",
       "      <th>4</th>\n",
       "      <td>-6.633557</td>\n",
       "      <td>-13.470629</td>\n",
       "      <td>0.420252</td>\n",
       "      <td>0.375</td>\n",
       "    </tr>\n",
       "    <tr>\n",
       "      <th>...</th>\n",
       "      <td>...</td>\n",
       "      <td>...</td>\n",
       "      <td>...</td>\n",
       "      <td>...</td>\n",
       "    </tr>\n",
       "    <tr>\n",
       "      <th>30742</th>\n",
       "      <td>-8.499560</td>\n",
       "      <td>-14.775879</td>\n",
       "      <td>0.210248</td>\n",
       "      <td>0.123</td>\n",
       "    </tr>\n",
       "    <tr>\n",
       "      <th>30743</th>\n",
       "      <td>-6.419627</td>\n",
       "      <td>-12.533582</td>\n",
       "      <td>0.335442</td>\n",
       "      <td>0.066</td>\n",
       "    </tr>\n",
       "    <tr>\n",
       "      <th>30744</th>\n",
       "      <td>-7.664967</td>\n",
       "      <td>-14.617288</td>\n",
       "      <td>0.225540</td>\n",
       "      <td>0.131</td>\n",
       "    </tr>\n",
       "    <tr>\n",
       "      <th>30745</th>\n",
       "      <td>-10.701671</td>\n",
       "      <td>-17.080531</td>\n",
       "      <td>0.089007</td>\n",
       "      <td>0.177</td>\n",
       "    </tr>\n",
       "    <tr>\n",
       "      <th>30746</th>\n",
       "      <td>-14.913366</td>\n",
       "      <td>-23.418471</td>\n",
       "      <td>0.074439</td>\n",
       "      <td>0.150</td>\n",
       "    </tr>\n",
       "  </tbody>\n",
       "</table>\n",
       "<p>30747 rows × 4 columns</p>\n",
       "</div>"
      ],
      "text/plain": [
       "              VV         VH   smap_am  soil_moisture\n",
       "0      -9.058618 -15.982408  0.284554          0.301\n",
       "1      -9.511266 -18.085192  0.218601          0.172\n",
       "2     -10.926619 -19.470199  0.286454          0.485\n",
       "3      -8.650778 -14.840568  0.407210          0.143\n",
       "4      -6.633557 -13.470629  0.420252          0.375\n",
       "...          ...        ...       ...            ...\n",
       "30742  -8.499560 -14.775879  0.210248          0.123\n",
       "30743  -6.419627 -12.533582  0.335442          0.066\n",
       "30744  -7.664967 -14.617288  0.225540          0.131\n",
       "30745 -10.701671 -17.080531  0.089007          0.177\n",
       "30746 -14.913366 -23.418471  0.074439          0.150\n",
       "\n",
       "[30747 rows x 4 columns]"
      ]
     },
     "execution_count": 3,
     "metadata": {},
     "output_type": "execute_result"
    }
   ],
   "source": [
    "data = pd.read_csv(\"t_s1_am_6am.csv\")\n",
    "data"
   ]
  },
  {
   "cell_type": "markdown",
   "id": "894e734d",
   "metadata": {
    "id": "894e734d"
   },
   "source": [
    "## 1. Missing value imputation"
   ]
  },
  {
   "cell_type": "code",
   "execution_count": 4,
   "id": "e78b1eb8",
   "metadata": {
    "colab": {
     "base_uri": "https://localhost:8080/"
    },
    "id": "e78b1eb8",
    "outputId": "9f3efa03-c3af-486a-ad3d-56376eb5583e"
   },
   "outputs": [
    {
     "name": "stdout",
     "output_type": "stream",
     "text": [
      "VV               0\n",
      "VH               0\n",
      "smap_am          0\n",
      "soil_moisture    0\n",
      "dtype: int64\n"
     ]
    }
   ],
   "source": [
    "# Find missing data\n",
    "print(data.isnull().sum())"
   ]
  },
  {
   "cell_type": "markdown",
   "id": "012ed387",
   "metadata": {
    "id": "012ed387"
   },
   "source": [
    "Since `print(df.isnull().sum())` returned 0, there are no missing values in the dataset."
   ]
  },
  {
   "cell_type": "markdown",
   "id": "a3bf9bb1",
   "metadata": {
    "id": "a3bf9bb1"
   },
   "source": [
    "## 2. Outlier detection"
   ]
  },
  {
   "cell_type": "code",
   "execution_count": 5,
   "id": "a16bcb31",
   "metadata": {
    "colab": {
     "base_uri": "https://localhost:8080/",
     "height": 487
    },
    "id": "a16bcb31",
    "outputId": "2a5e3d60-54a0-4ad1-8fb7-40b320c390cf"
   },
   "outputs": [
    {
     "data": {
      "image/png": "[encoded data removed]",
      "text/plain": [
       "<Figure size 432x288 with 1 Axes>"
      ]
     },
     "metadata": {
      "needs_background": "light"
     },
     "output_type": "display_data"
    }
   ],
   "source": [
    "# Create a boxplot using seaborn\n",
    "sns.boxplot(data=data)\n",
    "\n",
    "# Set the x and y labels, title, and other common elements\n",
    "plt.xlabel(\"Feature\")\n",
    "plt.ylabel(\"Value\")\n",
    "plt.title(\"Box Plot of dataset\")\n",
    "plt.tight_layout()"
   ]
  },
  {
   "cell_type": "markdown",
   "id": "973dc2d9",
   "metadata": {
    "id": "973dc2d9"
   },
   "source": [
    "In the following code, the interquartile range (IQR) method is used to identify outliers in the dataset.\n",
    "\n",
    "The IQR is defined as the difference between the 75th percentile (Q3) and the 25th percentile (Q1) of the data. Any data points that fall outside of the range $Q1 - 1.5 \\times IQR$ to $Q3 + 1.5 \\times IQR$ are considered outliers.\n"
   ]
  },
  {
   "cell_type": "code",
   "execution_count": 6,
   "id": "79c3bbaa",
   "metadata": {
    "colab": {
     "base_uri": "https://localhost:8080/",
     "height": 423
    },
    "id": "79c3bbaa",
    "outputId": "e3ff532a-0f9d-406e-ae97-c1bc14b6df30"
   },
   "outputs": [
    {
     "data": {
      "text/html": [
       "<div>\n",
       "<style scoped>\n",
       "    .dataframe tbody tr th:only-of-type {\n",
       "        vertical-align: middle;\n",
       "    }\n",
       "\n",
       "    .dataframe tbody tr th {\n",
       "        vertical-align: top;\n",
       "    }\n",
       "\n",
       "    .dataframe thead th {\n",
       "        text-align: right;\n",
       "    }\n",
       "</style>\n",
       "<table border=\"1\" class=\"dataframe\">\n",
       "  <thead>\n",
       "    <tr style=\"text-align: right;\">\n",
       "      <th></th>\n",
       "      <th>VV</th>\n",
       "      <th>VH</th>\n",
       "      <th>smap_am</th>\n",
       "      <th>soil_moisture</th>\n",
       "    </tr>\n",
       "  </thead>\n",
       "  <tbody>\n",
       "    <tr>\n",
       "      <th>0</th>\n",
       "      <td>False</td>\n",
       "      <td>False</td>\n",
       "      <td>False</td>\n",
       "      <td>False</td>\n",
       "    </tr>\n",
       "    <tr>\n",
       "      <th>1</th>\n",
       "      <td>False</td>\n",
       "      <td>False</td>\n",
       "      <td>False</td>\n",
       "      <td>False</td>\n",
       "    </tr>\n",
       "    <tr>\n",
       "      <th>2</th>\n",
       "      <td>False</td>\n",
       "      <td>False</td>\n",
       "      <td>False</td>\n",
       "      <td>False</td>\n",
       "    </tr>\n",
       "    <tr>\n",
       "      <th>3</th>\n",
       "      <td>False</td>\n",
       "      <td>False</td>\n",
       "      <td>True</td>\n",
       "      <td>False</td>\n",
       "    </tr>\n",
       "    <tr>\n",
       "      <th>4</th>\n",
       "      <td>False</td>\n",
       "      <td>False</td>\n",
       "      <td>True</td>\n",
       "      <td>False</td>\n",
       "    </tr>\n",
       "    <tr>\n",
       "      <th>...</th>\n",
       "      <td>...</td>\n",
       "      <td>...</td>\n",
       "      <td>...</td>\n",
       "      <td>...</td>\n",
       "    </tr>\n",
       "    <tr>\n",
       "      <th>30742</th>\n",
       "      <td>False</td>\n",
       "      <td>False</td>\n",
       "      <td>False</td>\n",
       "      <td>False</td>\n",
       "    </tr>\n",
       "    <tr>\n",
       "      <th>30743</th>\n",
       "      <td>False</td>\n",
       "      <td>False</td>\n",
       "      <td>False</td>\n",
       "      <td>False</td>\n",
       "    </tr>\n",
       "    <tr>\n",
       "      <th>30744</th>\n",
       "      <td>False</td>\n",
       "      <td>False</td>\n",
       "      <td>False</td>\n",
       "      <td>False</td>\n",
       "    </tr>\n",
       "    <tr>\n",
       "      <th>30745</th>\n",
       "      <td>False</td>\n",
       "      <td>False</td>\n",
       "      <td>False</td>\n",
       "      <td>False</td>\n",
       "    </tr>\n",
       "    <tr>\n",
       "      <th>30746</th>\n",
       "      <td>False</td>\n",
       "      <td>False</td>\n",
       "      <td>False</td>\n",
       "      <td>False</td>\n",
       "    </tr>\n",
       "  </tbody>\n",
       "</table>\n",
       "<p>30747 rows × 4 columns</p>\n",
       "</div>"
      ],
      "text/plain": [
       "          VV     VH  smap_am  soil_moisture\n",
       "0      False  False    False          False\n",
       "1      False  False    False          False\n",
       "2      False  False    False          False\n",
       "3      False  False     True          False\n",
       "4      False  False     True          False\n",
       "...      ...    ...      ...            ...\n",
       "30742  False  False    False          False\n",
       "30743  False  False    False          False\n",
       "30744  False  False    False          False\n",
       "30745  False  False    False          False\n",
       "30746  False  False    False          False\n",
       "\n",
       "[30747 rows x 4 columns]"
      ]
     },
     "execution_count": 6,
     "metadata": {},
     "output_type": "execute_result"
    }
   ],
   "source": [
    "# Find the indices of the outliers using the interquartile range (IQR) method\n",
    "Q1 = data.quantile(0.25)\n",
    "Q3 = data.quantile(0.75)\n",
    "IQR = Q3 - Q1\n",
    "outliers = (data < (Q1 - 1.5 * IQR)) | (data > (Q3 + 1.5 * IQR))\n",
    "outliers"
   ]
  },
  {
   "cell_type": "code",
   "execution_count": 2,
   "id": "628027e4",
   "metadata": {},
   "outputs": [
    {
     "data": {
      "text/plain": [
       "0.1222233063388298"
      ]
     },
     "execution_count": 2,
     "metadata": {},
     "output_type": "execute_result"
    }
   ],
   "source": [
    "(30747-26989)/30747"
   ]
  },
  {
   "cell_type": "code",
   "execution_count": 7,
   "id": "8fbc83ee",
   "metadata": {
    "colab": {
     "base_uri": "https://localhost:8080/",
     "height": 441
    },
    "id": "8fbc83ee",
    "outputId": "59d90813-7081-4ae1-ac26-5ebd4d124e27"
   },
   "outputs": [
    {
     "name": "stdout",
     "output_type": "stream",
     "text": [
      "Total number of outliers found:  4574\n"
     ]
    },
    {
     "data": {
      "text/html": [
       "<div>\n",
       "<style scoped>\n",
       "    .dataframe tbody tr th:only-of-type {\n",
       "        vertical-align: middle;\n",
       "    }\n",
       "\n",
       "    .dataframe tbody tr th {\n",
       "        vertical-align: top;\n",
       "    }\n",
       "\n",
       "    .dataframe thead th {\n",
       "        text-align: right;\n",
       "    }\n",
       "</style>\n",
       "<table border=\"1\" class=\"dataframe\">\n",
       "  <thead>\n",
       "    <tr style=\"text-align: right;\">\n",
       "      <th></th>\n",
       "      <th>VV</th>\n",
       "      <th>VH</th>\n",
       "      <th>smap_am</th>\n",
       "      <th>soil_moisture</th>\n",
       "    </tr>\n",
       "  </thead>\n",
       "  <tbody>\n",
       "    <tr>\n",
       "      <th>0</th>\n",
       "      <td>-9.058618</td>\n",
       "      <td>-15.982408</td>\n",
       "      <td>0.284554</td>\n",
       "      <td>0.301</td>\n",
       "    </tr>\n",
       "    <tr>\n",
       "      <th>1</th>\n",
       "      <td>-9.511266</td>\n",
       "      <td>-18.085192</td>\n",
       "      <td>0.218601</td>\n",
       "      <td>0.172</td>\n",
       "    </tr>\n",
       "    <tr>\n",
       "      <th>2</th>\n",
       "      <td>-10.926619</td>\n",
       "      <td>-19.470199</td>\n",
       "      <td>0.286454</td>\n",
       "      <td>0.485</td>\n",
       "    </tr>\n",
       "    <tr>\n",
       "      <th>5</th>\n",
       "      <td>-12.483400</td>\n",
       "      <td>-20.180583</td>\n",
       "      <td>0.220504</td>\n",
       "      <td>0.026</td>\n",
       "    </tr>\n",
       "    <tr>\n",
       "      <th>6</th>\n",
       "      <td>-10.859593</td>\n",
       "      <td>-17.425397</td>\n",
       "      <td>0.184521</td>\n",
       "      <td>0.165</td>\n",
       "    </tr>\n",
       "    <tr>\n",
       "      <th>...</th>\n",
       "      <td>...</td>\n",
       "      <td>...</td>\n",
       "      <td>...</td>\n",
       "      <td>...</td>\n",
       "    </tr>\n",
       "    <tr>\n",
       "      <th>30742</th>\n",
       "      <td>-8.499560</td>\n",
       "      <td>-14.775879</td>\n",
       "      <td>0.210248</td>\n",
       "      <td>0.123</td>\n",
       "    </tr>\n",
       "    <tr>\n",
       "      <th>30743</th>\n",
       "      <td>-6.419627</td>\n",
       "      <td>-12.533582</td>\n",
       "      <td>0.335442</td>\n",
       "      <td>0.066</td>\n",
       "    </tr>\n",
       "    <tr>\n",
       "      <th>30744</th>\n",
       "      <td>-7.664967</td>\n",
       "      <td>-14.617288</td>\n",
       "      <td>0.225540</td>\n",
       "      <td>0.131</td>\n",
       "    </tr>\n",
       "    <tr>\n",
       "      <th>30745</th>\n",
       "      <td>-10.701671</td>\n",
       "      <td>-17.080531</td>\n",
       "      <td>0.089007</td>\n",
       "      <td>0.177</td>\n",
       "    </tr>\n",
       "    <tr>\n",
       "      <th>30746</th>\n",
       "      <td>-14.913366</td>\n",
       "      <td>-23.418471</td>\n",
       "      <td>0.074439</td>\n",
       "      <td>0.150</td>\n",
       "    </tr>\n",
       "  </tbody>\n",
       "</table>\n",
       "<p>26989 rows × 4 columns</p>\n",
       "</div>"
      ],
      "text/plain": [
       "              VV         VH   smap_am  soil_moisture\n",
       "0      -9.058618 -15.982408  0.284554          0.301\n",
       "1      -9.511266 -18.085192  0.218601          0.172\n",
       "2     -10.926619 -19.470199  0.286454          0.485\n",
       "5     -12.483400 -20.180583  0.220504          0.026\n",
       "6     -10.859593 -17.425397  0.184521          0.165\n",
       "...          ...        ...       ...            ...\n",
       "30742  -8.499560 -14.775879  0.210248          0.123\n",
       "30743  -6.419627 -12.533582  0.335442          0.066\n",
       "30744  -7.664967 -14.617288  0.225540          0.131\n",
       "30745 -10.701671 -17.080531  0.089007          0.177\n",
       "30746 -14.913366 -23.418471  0.074439          0.150\n",
       "\n",
       "[26989 rows x 4 columns]"
      ]
     },
     "execution_count": 7,
     "metadata": {},
     "output_type": "execute_result"
    }
   ],
   "source": [
    "# Print the total number of outliers found\n",
    "num_outliers = outliers.sum().sum()\n",
    "print(\"Total number of outliers found: \", num_outliers)\n",
    "\n",
    "# Remove the outliers from the dataframe\n",
    "data = data[~outliers.any(axis=1)]\n",
    "data"
   ]
  },
  {
   "cell_type": "markdown",
   "id": "8378d632",
   "metadata": {
    "id": "8378d632"
   },
   "source": [
    "## 3. Data Visualization"
   ]
  },
  {
   "cell_type": "markdown",
   "id": "2118c929",
   "metadata": {
    "id": "2118c929"
   },
   "source": [
    "### 3.1 Correlation Heatmap"
   ]
  },
  {
   "cell_type": "code",
   "execution_count": 8,
   "id": "2137c0f1",
   "metadata": {
    "colab": {
     "base_uri": "https://localhost:8080/",
     "height": 452
    },
    "id": "2137c0f1",
    "outputId": "5214ff94-2a74-4c41-9b4d-87e9043c25d5"
   },
   "outputs": [
    {
     "data": {
      "image/png": "[encoded data removed]",
      "text/plain": [
       "<Figure size 432x288 with 2 Axes>"
      ]
     },
     "metadata": {
      "needs_background": "light"
     },
     "output_type": "display_data"
    }
   ],
   "source": [
    "# Calculate correlation matrix\n",
    "corr = data.corr()\n",
    "\n",
    "# Plot heatmap\n",
    "sns.heatmap(corr, cmap=\"YlGnBu\", annot=True, fmt=\".4f\")\n",
    "plt.title(\"Correlation Heatmap\")\n",
    "plt.show()"
   ]
  },
  {
   "cell_type": "markdown",
   "id": "9db117a9",
   "metadata": {
    "id": "9db117a9"
   },
   "source": [
    "### 3.2 Distribution of Each Variable"
   ]
  },
  {
   "cell_type": "code",
   "execution_count": 9,
   "id": "29517469",
   "metadata": {
    "colab": {
     "base_uri": "https://localhost:8080/",
     "height": 718
    },
    "id": "29517469",
    "outputId": "0273ad57-b79b-4f4b-ec5d-aa2ac03bb4d3"
   },
   "outputs": [
    {
     "data": {
      "image/png": "[encoded data removed]",
      "text/plain": [
       "<Figure size 720x576 with 4 Axes>"
      ]
     },
     "metadata": {
      "needs_background": "light"
     },
     "output_type": "display_data"
    }
   ],
   "source": [
    "# Create a figure with 2 rows and 2 columns of subplots\n",
    "fig, axs = plt.subplots(2, 2, figsize=(10, 8))\n",
    "\n",
    "# Plot the first histogram\n",
    "sns.histplot(data=data, x='VV', bins=10, kde=True, edgecolor='black', ax=axs[0, 0])\n",
    "axs[0, 0].set_xlabel('Variable VV')\n",
    "axs[0, 0].set_ylabel('Frequency')\n",
    "axs[0, 0].set_title('Histogram of Variable VV')\n",
    "\n",
    "# Plot the second histogram\n",
    "sns.histplot(data=data, x='VH', bins=10, kde=True, edgecolor='black', ax=axs[0, 1])\n",
    "axs[0, 1].set_xlabel('Variable VH')\n",
    "axs[0, 1].set_ylabel('Frequency')\n",
    "axs[0, 1].set_title('Histogram of Variable VH')\n",
    "\n",
    "# Plot the third histogram\n",
    "sns.histplot(data=data, x='smap_am', bins=10, kde=True, edgecolor='black', ax=axs[1, 0])\n",
    "axs[1, 0].set_xlabel('Variable smap_am')\n",
    "axs[1, 0].set_ylabel('Frequency')\n",
    "axs[1, 0].set_title('Histogram of Variable smap_am')\n",
    "\n",
    "# Plot the fourth histogram\n",
    "sns.histplot(data=data, x='soil_moisture', bins=10, kde=True, edgecolor='black', ax=axs[1, 1])\n",
    "axs[1, 1].set_xlabel('Variable soil_moisture')\n",
    "axs[1, 1].set_ylabel('Frequency')\n",
    "axs[1, 1].set_title('Histogram of Variable soil_moisture')\n",
    "\n",
    "# Adjust the spacing between subplots\n",
    "plt.subplots_adjust(wspace=0.3, hspace=0.3)\n",
    "\n",
    "# Show the plot\n",
    "plt.show()"
   ]
  },
  {
   "cell_type": "markdown",
   "id": "4c2efe73",
   "metadata": {
    "id": "4c2efe73"
   },
   "source": [
    "## Normalization and Splitting the data"
   ]
  },
  {
   "cell_type": "code",
   "execution_count": 10,
   "id": "7068e701",
   "metadata": {
    "colab": {
     "base_uri": "https://localhost:8080/"
    },
    "id": "7068e701",
    "outputId": "fd6f3f1e-38e8-494b-9d76-43d91ba56884"
   },
   "outputs": [
    {
     "name": "stdout",
     "output_type": "stream",
     "text": [
      "[[ -9.05861831 -15.98240773   0.28455374]\n",
      " [ -9.51126614 -18.0851918    0.21860071]\n",
      " [-10.92661881 -19.47019865   0.28645369]\n",
      " ...\n",
      " [ -7.66496735 -14.61728804   0.22554016]\n",
      " [-10.70167104 -17.08053064   0.08900723]\n",
      " [-14.91336572 -23.41847055   0.07443891]]\n"
     ]
    }
   ],
   "source": [
    "# Split the data into features (X) and target (y)\n",
    "X = np.array(data.drop(\"soil_moisture\", axis=1).values)\n",
    "y = np.array(data[\"soil_moisture\"].values)\n",
    "\n",
    "print(X)"
   ]
  },
  {
   "cell_type": "code",
   "execution_count": 11,
   "id": "0c8e4b03",
   "metadata": {
    "colab": {
     "base_uri": "https://localhost:8080/"
    },
    "id": "0c8e4b03",
    "outputId": "f56f39d2-38b2-4d6d-cf59-1cc2c9cff331"
   },
   "outputs": [
    {
     "name": "stdout",
     "output_type": "stream",
     "text": [
      "[[ 0.03037076  0.0897548   1.53430982]\n",
      " [-0.16155891 -0.69619325  0.8699823 ]\n",
      " [-0.76169031 -1.21386098  1.5534476 ]\n",
      " ...\n",
      " [ 0.6213003   0.59998939  0.93988161]\n",
      " [-0.66630898 -0.32068561 -0.43537868]\n",
      " [-2.4521326  -2.68958864 -0.58212147]]\n"
     ]
    }
   ],
   "source": [
    "from sklearn.preprocessing import StandardScaler\n",
    "# Perform standard normalization on the features\n",
    "scaler = StandardScaler()\n",
    "X_norm = scaler.fit_transform(X)\n",
    "\n",
    "print(X_norm)"
   ]
  },
  {
   "cell_type": "code",
   "execution_count": 12,
   "id": "b9af75dc",
   "metadata": {
    "colab": {
     "base_uri": "https://localhost:8080/"
    },
    "id": "b9af75dc",
    "outputId": "fddf4ab3-03bd-4f2d-e33d-c959a1941834"
   },
   "outputs": [
    {
     "name": "stdout",
     "output_type": "stream",
     "text": [
      "Shape of X_train: (21591, 3)\n",
      "Shape of X_test: (5398, 3)\n",
      "Shape of y_train: (21591,)\n",
      "Shape of y_test: (5398,)\n"
     ]
    }
   ],
   "source": [
    "from sklearn.model_selection import train_test_split\n",
    "\n",
    "# Split the normalized data into training and testing sets\n",
    "X_train, X_test, y_train, y_test = train_test_split(X_norm, y, test_size=0.2, random_state=42)\n",
    "\n",
    "# Print the shapes of the training and testing sets\n",
    "print(\"Shape of X_train:\", X_train.shape)\n",
    "print(\"Shape of X_test:\", X_test.shape)\n",
    "print(\"Shape of y_train:\", y_train.shape)\n",
    "print(\"Shape of y_test:\", y_test.shape)"
   ]
  },
  {
   "cell_type": "markdown",
   "id": "142ba910",
   "metadata": {
    "id": "142ba910"
   },
   "source": [
    "## Linear Regression Model"
   ]
  },
  {
   "cell_type": "code",
   "execution_count": 13,
   "id": "4a89b7e5",
   "metadata": {
    "colab": {
     "base_uri": "https://localhost:8080/"
    },
    "id": "4a89b7e5",
    "outputId": "11392a2d-6dbf-4dce-aca0-ecfe572781b3"
   },
   "outputs": [
    {
     "name": "stdout",
     "output_type": "stream",
     "text": [
      "Mean squared error: 0.01523\n",
      "R2 Score: 0.0015\n"
     ]
    }
   ],
   "source": [
    "from sklearn.linear_model import LinearRegression\n",
    "from sklearn.metrics import mean_squared_error, r2_score\n",
    "\n",
    "# Initialize the model\n",
    "model = LinearRegression()\n",
    "\n",
    "# Fit the model to the training data\n",
    "model.fit(X_train, y_train)\n",
    "\n",
    "# Make predictions on the testing data\n",
    "y_pred = model.predict(X_test)\n",
    "\n",
    "# Evaluate the model using mean squared error and r2_score\n",
    "mse = mean_squared_error(y_test, y_pred)\n",
    "r2 = r2_score(y_test,y_pred)\n",
    "print(\"Mean squared error:\", round(mse,5))\n",
    "print(\"R2 Score:\", round(r2,5))"
   ]
  },
  {
   "cell_type": "code",
   "execution_count": 14,
   "id": "odf_KAPr3oR-",
   "metadata": {
    "colab": {
     "base_uri": "https://localhost:8080/"
    },
    "id": "odf_KAPr3oR-",
    "outputId": "dab9ef97-28ea-4efc-cb40-87d1c0ee9937"
   },
   "outputs": [
    {
     "name": "stdout",
     "output_type": "stream",
     "text": [
      "Intercept: 0.1794\n",
      "Coefficents: [ 0.0157 -0.0169  0.0029]\n"
     ]
    }
   ],
   "source": [
    "print(f\"Intercept: {round(model.intercept_,4)}\\nCoefficents: {np.round(model.coef_,4)}\")"
   ]
  },
  {
   "cell_type": "code",
   "execution_count": 16,
   "id": "0883bdce",
   "metadata": {
    "colab": {
     "base_uri": "https://localhost:8080/",
     "height": 472
    },
    "id": "0883bdce",
    "outputId": "1dfa72da-b165-487d-d648-896160313d27"
   },
   "outputs": [
    {
     "data": {
      "image/png": "[encoded data removed]",
      "text/plain": [
       "<Figure size 432x288 with 1 Axes>"
      ]
     },
     "metadata": {
      "needs_background": "light"
     },
     "output_type": "display_data"
    }
   ],
   "source": [
    "# Create a scatter plot of predicted vs actual values\n",
    "plt.plot(y_test, y_test, 'r--', label = 'Ideal fit')\n",
    "plt.scatter(y_test, y_pred, color = 'skyblue', edgecolor = 'k')\n",
    "plt.xlabel(\"Actual values\")\n",
    "plt.ylabel(\"Predicted values\")\n",
    "plt.title(\"Actual vs Predicted values (Model: Linear Regression)\")\n",
    "plt.legend()\n",
    "plt.show()"
   ]
  },
  {
   "cell_type": "markdown",
   "id": "XHeTEri_ekdF",
   "metadata": {
    "id": "XHeTEri_ekdF"
   },
   "source": [
    "## Feed-forward neural network"
   ]
  },
  {
   "cell_type": "code",
   "execution_count": 17,
   "id": "ca244441",
   "metadata": {
    "id": "ca244441"
   },
   "outputs": [],
   "source": [
    "from tensorflow import keras\n",
    "from tensorflow.keras.models import Sequential\n",
    "from tensorflow.keras.layers import Dense, BatchNormalization\n",
    "from tensorflow.keras.callbacks import EarlyStopping"
   ]
  },
  {
   "cell_type": "code",
   "execution_count": 18,
   "id": "84efa163",
   "metadata": {
    "colab": {
     "base_uri": "https://localhost:8080/"
    },
    "id": "84efa163",
    "outputId": "fefbfca6-b2d7-4f52-9ad3-d74e8314f0cd",
    "scrolled": true
   },
   "outputs": [
    {
     "name": "stdout",
     "output_type": "stream",
     "text": [
      "Epoch 1/10\n",
      "1350/1350 [==============================] - 2s 916us/step - loss: 0.0447\n",
      "Epoch 2/10\n",
      "1350/1350 [==============================] - 1s 890us/step - loss: 0.0176\n",
      "Epoch 3/10\n",
      "1350/1350 [==============================] - 1s 871us/step - loss: 0.0161\n",
      "Epoch 4/10\n",
      "1350/1350 [==============================] - 1s 880us/step - loss: 0.0156\n",
      "Epoch 5/10\n",
      "1350/1350 [==============================] - 1s 897us/step - loss: 0.0153\n",
      "Epoch 6/10\n",
      "1350/1350 [==============================] - 1s 914us/step - loss: 0.0152\n",
      "Epoch 7/10\n",
      "1350/1350 [==============================] - 1s 906us/step - loss: 0.0152\n",
      "Epoch 8/10\n",
      "1350/1350 [==============================] - 1s 871us/step - loss: 0.0150\n",
      "Epoch 9/10\n",
      "1350/1350 [==============================] - 1s 934us/step - loss: 0.0149\n",
      "Epoch 10/10\n",
      "1350/1350 [==============================] - 1s 954us/step - loss: 0.0149\n"
     ]
    },
    {
     "data": {
      "text/plain": [
       "<keras.callbacks.History at 0x2b308f56040>"
      ]
     },
     "execution_count": 18,
     "metadata": {},
     "output_type": "execute_result"
    }
   ],
   "source": [
    "# Define the model architecture\n",
    "model = Sequential()\n",
    "model.add(Dense(12, activation='relu', input_dim=3))  # Hidden layer with 12 neurons\n",
    "model.add(BatchNormalization())  # Batch normalization layer\n",
    "model.add(Dense(6, activation='relu'))  # Hidden layer with 6 neurons\n",
    "model.add(BatchNormalization())  # Batch normalization layer\n",
    "model.add(Dense(1))  # Output layer with 1 neuron\n",
    "\n",
    "# Compile the model\n",
    "model.compile(loss='mean_squared_error', optimizer='sgd')\n",
    "\n",
    "# Define early stopping callback\n",
    "early_stop = EarlyStopping(monitor='loss', patience=3, mode='min', verbose=1)\n",
    "\n",
    "# Train the model\n",
    "model.fit(X_train, y_train, epochs=10, batch_size=16, callbacks=[early_stop])"
   ]
  },
  {
   "cell_type": "code",
   "execution_count": 20,
   "id": "47694d53",
   "metadata": {
    "colab": {
     "base_uri": "https://localhost:8080/"
    },
    "id": "47694d53",
    "outputId": "81f4d630-1a8a-4762-ee74-fe43fd29209e"
   },
   "outputs": [
    {
     "name": "stdout",
     "output_type": "stream",
     "text": [
      "Mean squared error: 0.0151\n",
      "R2 Score: 0.00959\n"
     ]
    }
   ],
   "source": [
    "# Make predictions\n",
    "y_pred = model.predict(X_test)\n",
    "\n",
    "# Evaluate the model using mean squared error and r2_score\n",
    "mse = mean_squared_error(y_test, y_pred)\n",
    "r2 = r2_score(y_test,y_pred)\n",
    "print(\"Mean squared error:\", round(mse,5))\n",
    "print(\"R2 Score:\", round(r2,5))"
   ]
  },
  {
   "cell_type": "code",
   "execution_count": 21,
   "id": "f091831d",
   "metadata": {
    "colab": {
     "base_uri": "https://localhost:8080/",
     "height": 472
    },
    "id": "f091831d",
    "outputId": "3e457293-5792-4f3b-83cc-870f3bd8469b"
   },
   "outputs": [
    {
     "data": {
      "image/png": "[encoded data removed]",
      "text/plain": [
       "<Figure size 432x288 with 1 Axes>"
      ]
     },
     "metadata": {
      "needs_background": "light"
     },
     "output_type": "display_data"
    }
   ],
   "source": [
    "# Create a scatter plot of predicted vs actual values\n",
    "plt.plot(y_test, y_test, 'r--', label = 'Ideal fit')\n",
    "plt.scatter(y_test, y_pred, color = 'skyblue', edgecolor = 'k')\n",
    "plt.xlabel(\"Actual values\")\n",
    "plt.ylabel(\"Predicted values\")\n",
    "plt.title(\"Actual vs Predicted values (Model: Neural Network)\")\n",
    "plt.legend()\n",
    "plt.show()"
   ]
  },
  {
   "cell_type": "markdown",
   "id": "IbYqB_X5er__",
   "metadata": {
    "id": "IbYqB_X5er__"
   },
   "source": [
    "## Decision tree regression with bagging"
   ]
  },
  {
   "cell_type": "code",
   "execution_count": 22,
   "id": "c1fcbf0d",
   "metadata": {
    "id": "c1fcbf0d"
   },
   "outputs": [],
   "source": [
    "from sklearn.tree import DecisionTreeRegressor\n",
    "from sklearn.ensemble import BaggingRegressor"
   ]
  },
  {
   "cell_type": "code",
   "execution_count": 24,
   "id": "66a6acbb",
   "metadata": {
    "colab": {
     "base_uri": "https://localhost:8080/",
     "height": 117
    },
    "id": "66a6acbb",
    "outputId": "9853a02e-2332-43f1-c6c9-ab086a7d7ce0"
   },
   "outputs": [
    {
     "data": {
      "text/plain": [
       "BaggingRegressor(base_estimator=DecisionTreeRegressor(min_samples_split=10,\n",
       "                                                      random_state=42),\n",
       "                 n_estimators=50)"
      ]
     },
     "execution_count": 24,
     "metadata": {},
     "output_type": "execute_result"
    }
   ],
   "source": [
    "# Define the decision tree regressor model\n",
    "tree_model = DecisionTreeRegressor(random_state=42, min_samples_split=10)\n",
    "\n",
    "# Define the bagging regressor model with decision tree base estimator\n",
    "bagging_model = BaggingRegressor(base_estimator=tree_model, n_estimators=50)\n",
    "\n",
    "# Fit the model to the training data\n",
    "bagging_model.fit(X_train, y_train)"
   ]
  },
  {
   "cell_type": "code",
   "execution_count": 25,
   "id": "a724fe4f",
   "metadata": {
    "colab": {
     "base_uri": "https://localhost:8080/"
    },
    "id": "a724fe4f",
    "outputId": "e9a25677-a250-4aaf-914e-e256d790eb28"
   },
   "outputs": [
    {
     "name": "stdout",
     "output_type": "stream",
     "text": [
      "Mean squared error: 0.01515\n",
      "R2 Score: 0.00646\n"
     ]
    }
   ],
   "source": [
    "# Make predictions\n",
    "y_pred = bagging_model.predict(X_test)\n",
    "\n",
    "# Evaluate the model using mean squared error and r2_score\n",
    "mse = mean_squared_error(y_test, y_pred)\n",
    "r2 = r2_score(y_test,y_pred)\n",
    "print(\"Mean squared error:\", round(mse,5))\n",
    "print(\"R2 Score:\", round(r2,5))"
   ]
  },
  {
   "cell_type": "code",
   "execution_count": 26,
   "id": "iiToGga5dBDs",
   "metadata": {
    "colab": {
     "base_uri": "https://localhost:8080/",
     "height": 472
    },
    "id": "iiToGga5dBDs",
    "outputId": "06a6ed75-4f19-4919-edea-8be3fb29d00e"
   },
   "outputs": [
    {
     "data": {
      "image/png": "[encoded data removed]",
      "text/plain": [
       "<Figure size 432x288 with 1 Axes>"
      ]
     },
     "metadata": {
      "needs_background": "light"
     },
     "output_type": "display_data"
    }
   ],
   "source": [
    "# Create a scatter plot of predicted vs actual values\n",
    "plt.plot(y_test, y_test, 'r--', label = 'Ideal fit')\n",
    "plt.scatter(y_test, y_pred, color = 'skyblue', edgecolor = 'k')\n",
    "plt.xlabel(\"Actual values\")\n",
    "plt.ylabel(\"Predicted values\")\n",
    "plt.title(\"Actual vs Predicted values (Model: Decision Trees with Bagging)\")\n",
    "plt.legend()\n",
    "plt.show()"
   ]
  },
  {
   "cell_type": "code",
   "execution_count": 3,
   "id": "jFvssUDbsiDx",
   "metadata": {
    "id": "jFvssUDbsiDx"
   },
   "outputs": [],
   "source": [
    "import numpy as np"
   ]
  },
  {
   "cell_type": "code",
   "execution_count": 13,
   "id": "f20041a7",
   "metadata": {},
   "outputs": [],
   "source": [
    "arr = np.arange(0,10,0.5)"
   ]
  },
  {
   "cell_type": "code",
   "execution_count": 14,
   "id": "0f174495",
   "metadata": {},
   "outputs": [
    {
     "data": {
      "text/plain": [
       "array([0. , 0.5, 1. , 1.5, 2. , 2.5, 3. , 3.5, 4. , 4.5, 5. , 5.5, 6. ,\n",
       "       6.5, 7. , 7.5, 8. , 8.5, 9. , 9.5])"
      ]
     },
     "execution_count": 14,
     "metadata": {},
     "output_type": "execute_result"
    }
   ],
   "source": [
    "arr"
   ]
  },
  {
   "cell_type": "code",
   "execution_count": 18,
   "id": "924761bb",
   "metadata": {},
   "outputs": [],
   "source": [
    "def sol(arr):\n",
    "    n = len(arr)\n",
    "    lst = []\n",
    "    for i in range(n):\n",
    "        for j in range(i+1,n):\n",
    "            if arr[i] + arr[j] == 6:\n",
    "                lst.append((i,j))\n",
    "    return lst"
   ]
  },
  {
   "cell_type": "code",
   "execution_count": 19,
   "id": "56b8a0be",
   "metadata": {},
   "outputs": [
    {
     "data": {
      "text/plain": [
       "[(0, 12), (1, 11), (2, 10), (3, 9), (4, 8), (5, 7)]"
      ]
     },
     "execution_count": 19,
     "metadata": {},
     "output_type": "execute_result"
    }
   ],
   "source": [
    "sol(arr)"
   ]
  },
  {
   "cell_type": "code",
   "execution_count": 20,
   "id": "44a75dba",
   "metadata": {},
   "outputs": [
    {
     "data": {
      "text/plain": [
       "array([5. , 5.5, 6. , 6.5, 7. ])"
      ]
     },
     "execution_count": 20,
     "metadata": {},
     "output_type": "execute_result"
    }
   ],
   "source": [
    "arr[10:15]"
   ]
  },
  {
   "cell_type": "code",
   "execution_count": null,
   "id": "b85f3e03",
   "metadata": {},
   "outputs": [],
   "source": []
  },
  {
   "cell_type": "code",
   "execution_count": null,
   "id": "6eb0b228",
   "metadata": {},
   "outputs": [],
   "source": []
  },
  {
   "cell_type": "code",
   "execution_count": null,
   "id": "4a1c3489",
   "metadata": {},
   "outputs": [],
   "source": []
  },
  {
   "cell_type": "code",
   "execution_count": null,
   "id": "2be1a51a",
   "metadata": {},
   "outputs": [],
   "source": []
  }
 ],
 "metadata": {
  "colab": {
   "provenance": []
  },
  "kernelspec": {
   "display_name": "Python 3 (ipykernel)",
   "language": "python",
   "name": "python3"
  },
  "language_info": {
   "codemirror_mode": {
    "name": "ipython",
    "version": 3
   },
   "file_extension": ".py",
   "mimetype": "text/x-python",
   "name": "python",
   "nbconvert_exporter": "python",
   "pygments_lexer": "ipython3",
   "version": "3.9.7"
  }
 },
 "nbformat": 4,
 "nbformat_minor": 5
}
